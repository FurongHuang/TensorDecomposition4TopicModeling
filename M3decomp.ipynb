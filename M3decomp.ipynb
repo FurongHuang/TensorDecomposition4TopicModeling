{
 "metadata": {
  "name": "",
  "signature": "sha256:f8fffed5707a7fa1f1ba933ab5332ebca04e523bd967ee14b9b139f70c8657bf"
 },
 "nbformat": 3,
 "nbformat_minor": 0,
 "worksheets": [
  {
   "cells": [
    {
     "cell_type": "markdown",
     "metadata": {},
     "source": [
      "This code performs tensor decomposition given the third order moment M3 in the following form:\n",
      "\n",
      "$\\text{Triplets}_{\\alpha_0} := \\mathbb{E}[\\bf{x}_1 \\otimes \\bf{x}_2 \\otimes \\bf{x}_3] \\\\$\n",
      "$-\\frac{\\alpha_0}{\\alpha_0+2}\\big( \\mathbb{E}[\\bf{x}_1 \\otimes \\bf{x}_2 \\otimes \\mu] + \\mathbb{E}[\\bf{x}_1 \\otimes \\mu \\otimes \\bf{x}_3] + \\mathbb{E}[\\mu \\otimes \\bf{x}_2 \\otimes \\bf{x}_3] \\big) \\\\$\n",
      "$+\\frac{2\\alpha_0^2}{(\\alpha_0+2)(\\alpha_0+1)} \\mu \\otimes \\mu \\otimes \\mu \\in \\mathbb{R}^{d \\times d \\times d}$\n",
      "\n",
      "where:\n",
      "\n",
      "$\\mu := \\mathbb{E}[\\bf{x}_1] \\in \\mathbb{R}^d$\n",
      "\n",
      "The M3 tensor $\\in \\mathbb{R}^{k \\times k \\times k}$ can be represented as a matrix m3 $\\in \\mathbb{R}^{k \\times k^2}$. m3 can be written as a $k \\times k$ block matrix in which each $k \\times k$ block represents one slice of M3 with reserved order. The code assumes that M3 is given in m3 format and is written in the sparse matrix representation in a text file.\n",
      "\n",
      "Respresenting M3 as m3 is called tensor matricization. for a more detailed description of how this works take a look at section 2.4 of <a href=\"http://epubs.siam.org/doi/pdf/10.1137/07070111X\"> \"Tensor Decomposition and Applications\" </a> by Tamara G. Kolda and Brett W. Bader. We are considering the mode-1 matricization in our code.\n",
      "\n",
      "Note that this code might be slow for large scale M3 since the tensor is directly being input."
     ]
    },
    {
     "cell_type": "heading",
     "level": 2,
     "metadata": {},
     "source": [
      "Compilation and Usage"
     ]
    },
    {
     "cell_type": "markdown",
     "metadata": {},
     "source": [
      "This document will walk you through the compilation steps and teach you how to define the inputs. We will then generate a set of synthetic data and pass it on to the code and see the output\n",
      "\n",
      "First clone the following repository and pull the contents:"
     ]
    },
    {
     "cell_type": "code",
     "collapsed": false,
     "input": [
      "  git clone https://megaDataLab@bitbucket.org/megaDataLab/tensormethodsforml.git"
     ],
     "language": "python",
     "metadata": {},
     "outputs": []
    },
    {
     "cell_type": "markdown",
     "metadata": {},
     "source": [
      "The source files are contained in the TopicModelingSingleNodeALS/TopicModel/M3decomp folder.\n",
      "\n",
      "We will show you how to compile the source code:"
     ]
    },
    {
     "cell_type": "code",
     "collapsed": false,
     "input": [
      "cd (PATH_TO_topicModling)/TopicModelingSingleNodeALS/TopicModel/TopicModel"
     ],
     "language": "python",
     "metadata": {},
     "outputs": []
    },
    {
     "cell_type": "markdown",
     "metadata": {},
     "source": [
      "Then you have to compile the files using the following command which will give the following output. Note that while making the executable you should have a folder named dependency that contains the <a href = \"http://eigen.tuxfamily.org/index.php?title=Main_Page\"> Eigen </a> library in the following path: \"../../dependency/Eigen\""
     ]
    },
    {
     "cell_type": "code",
     "collapsed": false,
     "input": [
      "make exe-tensor"
     ],
     "language": "python",
     "metadata": {},
     "outputs": []
    },
    {
     "cell_type": "markdown",
     "metadata": {},
     "source": [
      "This will creat an executable file named \"exe-M3decomp\" in your current directory which is the directory of the source code. Now you need to specify the input arguments to the executable file which will give you the desired outputs. There are a total number of 8 input arguments to the executable listed below in order. (The last four arguments - Arguments 12 through 15 - are arbitrary, leave blank in case you do not wish to give those inputs).\n",
      "\n",
      "    InputArgument 1: (NA) is the vocabulary size\n",
      "    InputArgument 2: (KHID) is the number of topics you want to learn\n",
      "    InputArgument 3: (DATATYPE) denotes the index convention. Set it to 1 if the data is compatible with MATLAB (array indexing       starts from 1) and set it to 0 if the data is compatible with C++ (array indexing starts from 0)\n",
      "    \n",
      "    InputArgument 4: (M3_filename) filename/filepath to the third order moment\n",
      "    \n",
      "    InputArgument 5: (outputEigValPATH) denotes the filename/filepath for the eigenvalues\n",
      "\tInputArgument 6: (outputEigVectPATH) denotes the filename/filepath for eigenvectors\n",
      "    \n",
      "    "
     ]
    },
    {
     "cell_type": "markdown",
     "metadata": {},
     "source": [
      "You can now run the executable by typing the following in the command line:"
     ]
    },
    {
     "cell_type": "code",
     "collapsed": false,
     "input": [
      "make runtensor"
     ],
     "language": "python",
     "metadata": {},
     "outputs": []
    },
    {
     "cell_type": "markdown",
     "metadata": {},
     "source": [
      "You should see the following printed on the screen:"
     ]
    },
    {
     "cell_type": "markdown",
     "metadata": {},
     "source": [
      "The code then performs batch Alternating Least Squares to perform tensor decomposition for our synthetic example. This is done by function tensorDecom_batchALS whose syntax is given below."
     ]
    },
    {
     "cell_type": "code",
     "collapsed": false,
     "input": [
      "void tensorDecom_batchALS(MatrixXd T, VectorXd &lambda, MatrixXd &A_new)"
     ],
     "language": "python",
     "metadata": {},
     "outputs": []
    },
    {
     "cell_type": "markdown",
     "metadata": {},
     "source": [
      "Let M3 have the following factorization. The goal of ALS is to perform this tensor decomposition and return $\\bf{A}$ and $\\Lambda$ which is a vector whose entries are the $\\lambda_i$'s.\n",
      "\n",
      "$M3 = \\sum_{i \\in [k]} \\lambda_i \\bf{A}_i \\otimes \\bf{A}_i \\otimes \\bf{A}_i$"
     ]
    },
    {
     "cell_type": "markdown",
     "metadata": {},
     "source": [
      "The ALS algorithm is a iterative procedure, where in each iteration it updates $\\bf{A}$ using the previous value of $\\bf{A}$. The update equations are given below (t indicates the iteration index). Note that $\\bf{y}_i$ indicates the whitened version of $\\bf{x}_i$.\n",
      "\n",
      "$\\bf{A}^{t+1} \\longleftarrow \\bf{A}^t + \\beta \\frac{1}{\\vert \\bf{X} \\vert} \\bf{y}_1 \\bigg(\\bf{y_3} ^\\top \\bf{A}^t * \\bf{y}_2 ^\\top \\bf{A}^{t} \\bigg) \\Bigg( \\bigg( (\\bf{A}^t)^\\top \\bf{A}^t * (\\bf{A}^t)^\\top \\bf{A}^t \\bigg)^\\top \\Bigg) ^\\dagger$\n",
      "\n",
      "$\\Lambda^{t+1} \\longleftarrow \\| \\bf{A}^{t+1} \\| \\| \\bf{A}^{t+1} \\| \\| \\bf{A}^{t+1} \\|$"
     ]
    },
    {
     "cell_type": "markdown",
     "metadata": {},
     "source": [
      "$\\bf{A}$ and $\\Lambda = [\\lambda_i] \\in \\mathbb{R}^k$ will be written in the specified output path and are the desired components of the input tensor."
     ]
    },
    {
     "cell_type": "markdown",
     "metadata": {},
     "source": [
      "Let us give an example of a simple matrix decomposition result for the M3 matrix in the results folder called Tsparse.txt. cd into the M3decomp directory and make the executable. Then run the programming by typing the following in the command line:"
     ]
    },
    {
     "cell_type": "markdown",
     "metadata": {},
     "source": [
      "./exe-tensor 3  3  1 ../datasets/synthetic/Tensor.txt  ../datasets/synthetic/result/tensor_eigenvalue.txt  ../datasets/synthetic/result/tensor_eigenvector.txt \n",
      "(1) Reading data----------------\n",
      "reading third order moment\n",
      "input_tensor: \n",
      "1 0 0 0 0 0 0 0 0\n",
      "0 0 0 0 2 0 0 0 0\n",
      "0 0 0 0 0 0 0 0 3\n",
      "Exec Time reading matrices before preproc = 1.9400000000e-04 (Seconds)\n",
      "(2) Tensor decomposition----------------\n",
      "Running ALS 0\n",
      "replace current eigenvalue and eigenvectors with this run\n",
      "Running ALS 1\n",
      "Running ALS 2\n",
      "FINAL ERROR (0-th run) : 0\n",
      "eigenvalues:\n",
      "3\n",
      "2\n",
      "1\n",
      "eigenvectors:\n",
      "0 0 1\n",
      "0 1 0\n",
      "1 0 0\n",
      "(3) Writing results----------\n",
      "(4) Program over------------"
     ]
    },
    {
     "cell_type": "markdown",
     "metadata": {},
     "source": [
      "_______________________ $_{Document}$  $_{prepared}$  $_{by}$  $_{Forough}$  $_{Arabshahi}$ $_{and}$ $_{edited}$ $_{by}$ $_{Animashree}$ $_{Anandkumar}$ - $_{Fall}$ $_{2014}$ __________________________"
     ]
    }
   ],
   "metadata": {}
  }
 ]
}